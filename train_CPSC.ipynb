{
 "cells": [
  {
   "cell_type": "markdown",
   "metadata": {
    "colab_type": "text",
    "id": "SbkD92kfzL1A"
   },
   "source": [
    "### Accessing content in your drive\n"
   ]
  },
  {
   "cell_type": "code",
   "execution_count": 1,
   "metadata": {
    "colab": {
     "base_uri": "https://localhost:8080/",
     "height": 34
    },
    "colab_type": "code",
    "executionInfo": {
     "elapsed": 2464,
     "status": "ok",
     "timestamp": 1595183188945,
     "user": {
      "displayName": "Sricharan V",
      "photoUrl": "",
      "userId": "03063971511613622677"
     },
     "user_tz": -330
    },
    "id": "-ek5UQ9yr_bx",
    "outputId": "a4e71000-6d3d-44a6-9408-d876ab36679d"
   },
   "outputs": [
    {
     "name": "stdout",
     "output_type": "stream",
     "text": [
      "Mounted at /content/drive\n"
     ]
    }
   ],
   "source": [
    "from google.colab import drive\n",
    "drive.mount('/content/drive', force_remount=True)"
   ]
  },
  {
   "cell_type": "markdown",
   "metadata": {
    "colab_type": "text",
    "id": "ntGUWXlLSddI"
   },
   "source": [
    "### AIM ### "
   ]
  },
  {
   "cell_type": "markdown",
   "metadata": {
    "colab_type": "text",
    "id": "SpPZWVo_7TAJ"
   },
   "source": [
    "Find Rpeaks location in ECG </br>\n",
    "Look at the image: https://drive.google.com/file/d/1_6IDe8FYJia-UOFVEvKsxergN6A1IOw4/view?usp=sharing"
   ]
  },
  {
   "cell_type": "markdown",
   "metadata": {
    "colab_type": "text",
    "id": "6LoYGJSRTw6W"
   },
   "source": [
    "### Navigate to the location of folder ###"
   ]
  },
  {
   "cell_type": "code",
   "execution_count": 2,
   "metadata": {
    "colab": {},
    "colab_type": "code",
    "executionInfo": {
     "elapsed": 1157,
     "status": "ok",
     "timestamp": 1595183195390,
     "user": {
      "displayName": "Sricharan V",
      "photoUrl": "",
      "userId": "03063971511613622677"
     },
     "user_tz": -330
    },
    "id": "IoYIoChl7RNa"
   },
   "outputs": [],
   "source": [
    "import os\n",
    "os.chdir('drive/My Drive/RPNet Model/Webinar_coding_session')"
   ]
  },
  {
   "cell_type": "markdown",
   "metadata": {
    "colab_type": "text",
    "id": "Vv5Zk4iWzGwI"
   },
   "source": [
    "### Importing required modules"
   ]
  },
  {
   "cell_type": "code",
   "execution_count": 4,
   "metadata": {
    "colab": {},
    "colab_type": "code",
    "executionInfo": {
     "elapsed": 1555,
     "status": "ok",
     "timestamp": 1595183202693,
     "user": {
      "displayName": "Sricharan V",
      "photoUrl": "",
      "userId": "03063971511613622677"
     },
     "user_tz": -330
    },
    "id": "5KS-9VEirZ7X"
   },
   "outputs": [],
   "source": [
    "### Importing basic libraries\n",
    "import scipy.io\n",
    "import numpy as np\n",
    "import torch\n",
    "from scipy import signal\n",
    "from tqdm import tqdm_notebook as tqdm\n",
    "from matplotlib import pyplot as plt\n",
    "import random\n",
    "import pandas as pd\n",
    "import scipy\n",
    "import pickle\n",
    "import sklearn\n",
    "from sklearn.preprocessing import MinMaxScaler\n",
    "import warnings\n",
    "import math\n",
    "import csv\n",
    "from tqdm.notebook import tqdm\n",
    "\n",
    "from scipy.signal import butter, lfilter, lfilter_zi\n",
    "from pylab import plot, show, title, xlabel, ylabel, subplot\n",
    "\n",
    "### Importing torch related libraries\n",
    "from torch.utils.data import DataLoader\n",
    "from torch.utils.data import TensorDataset\n",
    "import torch.nn as nn\n",
    "import torch.functional as F\n",
    "from torch.autograd import Variable   \n",
    "import torch.optim as optim\n",
    "from torch.optim import lr_scheduler\n",
    "import datetime\n",
    "import os\n",
    "\n",
    "### Importing Custom Libraries\n",
    "from network import IncUNet"
   ]
  },
  {
   "cell_type": "markdown",
   "metadata": {
    "colab_type": "text",
    "id": "KLloorhcT50Y"
   },
   "source": [
    "# Preprocessing #"
   ]
  },
  {
   "cell_type": "markdown",
   "metadata": {
    "colab_type": "text",
    "id": "APNa7e1tyCiH"
   },
   "source": [
    "### Navigate to the folder containing the model and data"
   ]
  },
  {
   "cell_type": "code",
   "execution_count": 5,
   "metadata": {
    "colab": {},
    "colab_type": "code",
    "executionInfo": {
     "elapsed": 1278,
     "status": "ok",
     "timestamp": 1595178230901,
     "user": {
      "displayName": "Sricharan V",
      "photoUrl": "",
      "userId": "03063971511613622677"
     },
     "user_tz": -330
    },
    "id": "5FbsPEjixAP3"
   },
   "outputs": [],
   "source": [
    "data_path = \"original_data/data\"\n",
    "reference_path = \"original_data/ref\""
   ]
  },
  {
   "cell_type": "markdown",
   "metadata": {
    "colab_type": "text",
    "id": "skbXk1ZyrZ8A"
   },
   "source": [
    "### Loading from the Mat file"
   ]
  },
  {
   "cell_type": "code",
   "execution_count": 6,
   "metadata": {
    "colab": {},
    "colab_type": "code",
    "executionInfo": {
     "elapsed": 1189,
     "status": "ok",
     "timestamp": 1595178708359,
     "user": {
      "displayName": "Sricharan V",
      "photoUrl": "",
      "userId": "03063971511613622677"
     },
     "user_tz": -330
    },
    "id": "LRIBLoABrZ8B"
   },
   "outputs": [],
   "source": [
    "count = 0 \n",
    "patient_info = []\n",
    "for files in sorted(os.listdir(data_path)):\n",
    "    count += 1\n",
    "    patient_info.append(scipy.io.loadmat(os.path.join(data_path,files)))\n",
    "    if count == 20:\n",
    "      break"
   ]
  },
  {
   "cell_type": "code",
   "execution_count": 7,
   "metadata": {
    "colab": {},
    "colab_type": "code",
    "executionInfo": {
     "elapsed": 1023,
     "status": "ok",
     "timestamp": 1595178709559,
     "user": {
      "displayName": "Sricharan V",
      "photoUrl": "",
      "userId": "03063971511613622677"
     },
     "user_tz": -330
    },
    "id": "PnRei9_kCLCU"
   },
   "outputs": [],
   "source": [
    "count = 0 \n",
    "patient_reference = []\n",
    "for files in sorted(os.listdir(reference_path)):\n",
    "    count += 1\n",
    "    patient_reference.append(scipy.io.loadmat(os.path.join(reference_path,files)))\n",
    "    if count == 20:\n",
    "      break\n",
    "### Entire thing can be run in a single line\n",
    "### patient_reference = [scipy.io.loadmat(os.path.join(reference_path,files)) for files in tqdm(sorted(os.listdir(reference_path)))]"
   ]
  },
  {
   "cell_type": "code",
   "execution_count": 8,
   "metadata": {
    "colab": {
     "base_uri": "https://localhost:8080/",
     "height": 51
    },
    "colab_type": "code",
    "executionInfo": {
     "elapsed": 1131,
     "status": "ok",
     "timestamp": 1595178712341,
     "user": {
      "displayName": "Sricharan V",
      "photoUrl": "",
      "userId": "03063971511613622677"
     },
     "user_tz": -330
    },
    "id": "o-tPH98uCfRn",
    "outputId": "8fa4e1f5-6ecf-4e5c-b51e-0bdf543000dc"
   },
   "outputs": [
    {
     "name": "stdout",
     "output_type": "stream",
     "text": [
      "20\n",
      "20\n"
     ]
    }
   ],
   "source": [
    "print(len(patient_info))\n",
    "print(len(patient_reference))"
   ]
  },
  {
   "cell_type": "markdown",
   "metadata": {
    "colab_type": "text",
    "id": "qKSRXHtYrZ8V"
   },
   "source": [
    "### To obtain the patient's ECG Record ###"
   ]
  },
  {
   "cell_type": "code",
   "execution_count": 9,
   "metadata": {
    "colab": {
     "base_uri": "https://localhost:8080/",
     "height": 83,
     "referenced_widgets": [
      "07fe63b0121d4351bb26947c3bad0d54",
      "c8b43bc08f914132b3d3bb3ae1960db0",
      "4bd46106e1cb4310b5fc453cfe37f894",
      "2d859fb9e6304a149dd04847f2c00616",
      "c39a3c6900de4c23ae249b97fdd14387",
      "60def240f2294eb0bead3c27b78a814e",
      "36f6579b633c4f12b45c49abd96e6c38",
      "053c08f89b80490e93ae6cc0484707f7"
     ]
    },
    "colab_type": "code",
    "executionInfo": {
     "elapsed": 1166,
     "status": "ok",
     "timestamp": 1595178719689,
     "user": {
      "displayName": "Sricharan V",
      "photoUrl": "",
      "userId": "03063971511613622677"
     },
     "user_tz": -330
    },
    "id": "XgCliWQnrZ8W",
    "outputId": "7faba977-b0ad-43cb-fd5a-0170be41fbac"
   },
   "outputs": [
    {
     "data": {
      "application/vnd.jupyter.widget-view+json": {
       "model_id": "30921d25caed437c9db046ed0228070d",
       "version_major": 2,
       "version_minor": 0
      },
      "text/plain": [
       "  0%|          | 0/20 [00:00<?, ?it/s]"
      ]
     },
     "metadata": {},
     "output_type": "display_data"
    },
    {
     "name": "stdout",
     "output_type": "stream",
     "text": [
      "Shape of the ECG record (20, 5000, 1)\n"
     ]
    }
   ],
   "source": [
    "patient_ecg = np.asarray( [patient_info[i]['ecg'] for i in tqdm(range(0,len(patient_info)))] )\n",
    "print(\"Shape of the ECG record\",patient_ecg.shape)\n",
    "patient_ecg = patient_ecg[:,:,0]"
   ]
  },
  {
   "cell_type": "markdown",
   "metadata": {
    "colab_type": "text",
    "id": "XwXZQlLlrZ8d"
   },
   "source": [
    "\n",
    "### Normalizing Patient ECG"
   ]
  },
  {
   "cell_type": "code",
   "execution_count": 10,
   "metadata": {
    "colab": {},
    "colab_type": "code",
    "executionInfo": {
     "elapsed": 1192,
     "status": "ok",
     "timestamp": 1595179044244,
     "user": {
      "displayName": "Sricharan V",
      "photoUrl": "",
      "userId": "03063971511613622677"
     },
     "user_tz": -330
    },
    "id": "ECtjCKc64yT2"
   },
   "outputs": [],
   "source": [
    "scaler = sklearn.preprocessing.StandardScaler()\n",
    "patient_ecg = scaler.fit_transform(patient_ecg.transpose()).transpose()"
   ]
  },
  {
   "cell_type": "markdown",
   "metadata": {
    "colab_type": "text",
    "id": "SufdQRuWrZ86"
   },
   "source": [
    "### To obtain the Reference Value ###"
   ]
  },
  {
   "cell_type": "code",
   "execution_count": 11,
   "metadata": {
    "colab": {},
    "colab_type": "code",
    "executionInfo": {
     "elapsed": 1155,
     "status": "ok",
     "timestamp": 1595179071308,
     "user": {
      "displayName": "Sricharan V",
      "photoUrl": "",
      "userId": "03063971511613622677"
     },
     "user_tz": -330
    },
    "id": "DnkVkiwUrZ87"
   },
   "outputs": [],
   "source": [
    "patient_ref = []\n",
    "for j in range(0,len(patient_reference)):\n",
    "    if(patient_reference[j]['R_peak'].shape[0] == 1):\n",
    "        patient_ref.append(patient_reference[j]['R_peak'][0].ravel().astype(np.float16))\n",
    "    else:\n",
    "        patient_ref.append(patient_reference[j]['R_peak'].ravel().astype(np.float16))"
   ]
  },
  {
   "cell_type": "markdown",
   "metadata": {
    "colab_type": "text",
    "id": "PGD4O5ARrZ9J"
   },
   "source": [
    "### Determining no of QRS complexes in windows"
   ]
  },
  {
   "cell_type": "code",
   "execution_count": 12,
   "metadata": {
    "colab": {},
    "colab_type": "code",
    "executionInfo": {
     "elapsed": 1142,
     "status": "ok",
     "timestamp": 1595179101396,
     "user": {
      "displayName": "Sricharan V",
      "photoUrl": "",
      "userId": "03063971511613622677"
     },
     "user_tz": -330
    },
    "id": "rTLI6rzerZ9L"
   },
   "outputs": [],
   "source": [
    "count = np.zeros((5,1))\n",
    "for i in range(len(patient_ref)-64):\n",
    "    if(len(patient_ref[i]) <= 10):\n",
    "        count[0] += 1 \n",
    "    elif (len(patient_ref[i]) > 10 and len(patient_ref[i]) <= 20):\n",
    "        count[1] += 1\n",
    "    elif (len(patient_ref[i]) > 20 and len(patient_ref[i]) <= 30):\n",
    "        count[2] += 1\n",
    "    elif (len(patient_ref[i])>30 and len(patient_ref[i])<=40):\n",
    "        count[3] += 1\n",
    "    elif (len(patient_ref[i])>40 and len(patient_ref[i])<=50):\n",
    "        count[4] += 1"
   ]
  },
  {
   "cell_type": "markdown",
   "metadata": {
    "colab_type": "text",
    "id": "6sUvjfCArZ9s"
   },
   "source": [
    "### Distance Transform- Obtaining ground truth"
   ]
  },
  {
   "cell_type": "code",
   "execution_count": 13,
   "metadata": {
    "colab": {
     "base_uri": "https://localhost:8080/",
     "height": 66,
     "referenced_widgets": [
      "c8f9b9b525e44dfdbd675713220a210f",
      "d326d4e62ea341c78d09b126ecec0315",
      "cf1cf687acd4494685d963c6867d87e3",
      "862ecdffe598460c8705b4c05159e551",
      "776ef00e70ef4e1ab7dd7c4a0e0b009e",
      "f40f9fee85a1420591f055e31ab3a820",
      "79f82bfc4d8247bf97708bb800aa00ec",
      "e20e7078af6245808d479ecf6b9adc10"
     ]
    },
    "colab_type": "code",
    "executionInfo": {
     "elapsed": 1213,
     "status": "ok",
     "timestamp": 1595179201252,
     "user": {
      "displayName": "Sricharan V",
      "photoUrl": "",
      "userId": "03063971511613622677"
     },
     "user_tz": -330
    },
    "id": "IpLHCDiqrZ9s",
    "outputId": "31d3a75b-c86f-42fb-e532-ae986e495a67"
   },
   "outputs": [
    {
     "data": {
      "application/vnd.jupyter.widget-view+json": {
       "model_id": "c96e2c9b38ac4a63aa88dff7feb26847",
       "version_major": 2,
       "version_minor": 0
      },
      "text/plain": [
       "  0%|          | 0/20 [00:00<?, ?it/s]"
      ]
     },
     "metadata": {},
     "output_type": "display_data"
    }
   ],
   "source": [
    "distance_transform = []\n",
    "for i in tqdm(range(len(patient_ref))):\n",
    "    prev_qrs = patient_ref[i][0]\n",
    "    next_qrs = patient_ref[i][1]\n",
    "    dist_tran = np.zeros(patient_ecg.shape[1])\n",
    "    beat_count = 1\n",
    "    for j in range(len(dist_tran)):\n",
    "        threshold = (prev_qrs + next_qrs)/2   \n",
    "        if(j < threshold):\n",
    "            dist_tran[j] = int(abs(j - prev_qrs))/250\n",
    "        elif(j >= threshold): \n",
    "            dist_tran[j] = int(abs(j - next_qrs))/250\n",
    "        if(j == next_qrs and beat_count != len(patient_ref[i])-1): ## -2 instead of -1 because we are incrementing the beat in the loop\n",
    "            beat_count += 1 \n",
    "            prev_qrs = next_qrs\n",
    "            next_qrs = patient_ref[i][beat_count]\n",
    "    distance_transform.append(dist_tran)\n",
    "distance_transform = np.asarray(distance_transform)\n",
    "scaler = MinMaxScaler(feature_range = (0,1))\n",
    "distance_transform =  np.transpose(scaler.fit_transform(distance_transform.transpose())) "
   ]
  },
  {
   "cell_type": "code",
   "execution_count": 16,
   "metadata": {
    "colab": {
     "base_uri": "https://localhost:8080/",
     "height": 34
    },
    "colab_type": "code",
    "executionInfo": {
     "elapsed": 1221,
     "status": "ok",
     "timestamp": 1595179206158,
     "user": {
      "displayName": "Sricharan V",
      "photoUrl": "",
      "userId": "03063971511613622677"
     },
     "user_tz": -330
    },
    "id": "FRBHobjMrZ90",
    "outputId": "cbf035ba-0a61-4901-8238-e88790b82610"
   },
   "outputs": [
    {
     "name": "stdout",
     "output_type": "stream",
     "text": [
      "torch.Size([20, 1, 5000])\n"
     ]
    }
   ],
   "source": [
    "dist_transform = torch.Tensor(distance_transform)\n",
    "dist_transform = dist_transform.view(dist_transform.shape[0],1,dist_transform.shape[1])\n",
    "print(dist_transform.shape)"
   ]
  },
  {
   "cell_type": "code",
   "execution_count": 17,
   "metadata": {
    "colab": {},
    "colab_type": "code",
    "executionInfo": {
     "elapsed": 1212,
     "status": "ok",
     "timestamp": 1595183209430,
     "user": {
      "displayName": "Sricharan V",
      "photoUrl": "",
      "userId": "03063971511613622677"
     },
     "user_tz": -330
    },
    "id": "dPfIA-lOrZ-K"
   },
   "outputs": [],
   "source": [
    "BATCH_SIZE = 64\n",
    "C,H,W = 1,1,5000\n",
    "learn_rate = 0.05\n",
    "num_epochs = 20"
   ]
  },
  {
   "cell_type": "code",
   "execution_count": 18,
   "metadata": {
    "colab": {},
    "colab_type": "code",
    "id": "FLUbT5Uk2o5c"
   },
   "outputs": [
    {
     "name": "stdout",
     "output_type": "stream",
     "text": [
      "Shape of input: torch.Size([20, 1, 5000])\n",
      "Shape of ground truth: torch.Size([20, 1, 5000])\n",
      "Shape of input: torch.Size([0, 1, 5000])\n",
      "Shape of ground truth: torch.Size([0, 1, 5000])\n"
     ]
    }
   ],
   "source": [
    "patient_ecg_t = torch.from_numpy(patient_ecg).float()\n",
    "patient_ecg_train = patient_ecg_t[:1936,:]\n",
    "patient_ecg_train = patient_ecg_train.view((patient_ecg_train.shape[0],1,patient_ecg_train.shape[1]))\n",
    "dist_transform_train = dist_transform[:1936,0,:]\n",
    "dist_transform_train = dist_transform_train.view(dist_transform_train.shape[0],1,dist_transform_train.shape[1])\n",
    "print(\"Shape of input:\",patient_ecg_train.shape)\n",
    "print(\"Shape of ground truth:\",dist_transform_train.shape)\n",
    "patient_ecg_tl = TensorDataset(patient_ecg_train,dist_transform_train)\n",
    "trainloader = DataLoader(patient_ecg_tl, batch_size=BATCH_SIZE, shuffle = True)\n",
    "\n",
    "patient_ecg_t_test = patient_ecg_t[1936:,:]\n",
    "patient_ecg_t_test = patient_ecg_t_test.view((patient_ecg_t_test.shape[0],1,patient_ecg_t_test.shape[1]))\n",
    "dist_transform_test = dist_transform[1936:,:]\n",
    "print(\"Shape of input:\",patient_ecg_t_test.shape)\n",
    "print(\"Shape of ground truth:\",dist_transform_test.shape)\n",
    "patient_ecg_tl_test = TensorDataset(patient_ecg_t_test,dist_transform_test)\n",
    "testloader = DataLoader(patient_ecg_tl_test, batch_size=BATCH_SIZE)\n",
    "\n",
    "torch.save(patient_ecg_train, 'train.pt')\n",
    "torch.save(patient_ecg_t_test, 'test.pt')\n",
    "torch.save(dist_transform_train, 'dist_transform_train.pt')\n",
    "torch.save(dist_transform_test, 'dist_transform_test.pt')"
   ]
  },
  {
   "cell_type": "markdown",
   "metadata": {
    "colab_type": "text",
    "id": "AUQ447F1rZ-I"
   },
   "source": [
    "# Train and Evaluate #"
   ]
  },
  {
   "cell_type": "markdown",
   "metadata": {
    "colab_type": "text",
    "id": "MMn9e3pcrZ-J"
   },
   "source": [
    "### Hyperparameters and Related parameters"
   ]
  },
  {
   "cell_type": "markdown",
   "metadata": {
    "colab_type": "text",
    "id": "EOMdQQOmy4Ap"
   },
   "source": [
    "### Loading data via the pt files"
   ]
  },
  {
   "cell_type": "code",
   "execution_count": 28,
   "metadata": {
    "colab": {},
    "colab_type": "code",
    "executionInfo": {
     "elapsed": 1124,
     "status": "ok",
     "timestamp": 1595183212561,
     "user": {
      "displayName": "Sricharan V",
      "photoUrl": "",
      "userId": "03063971511613622677"
     },
     "user_tz": -330
    },
    "id": "FgDMzUZ8y2b_"
   },
   "outputs": [],
   "source": [
    "patient_ecg_train = torch.load('train.pt')\n",
    "dist_transform_train = torch.load('dist_transform_train.pt')\n",
    "patient_ecg_test = torch.load('test.pt')\n",
    "dist_transform_test = torch.load('dist_transform_test.pt')\n",
    "\n",
    "patient_ecg_train_td = TensorDataset(patient_ecg_train, dist_transform_train)\n",
    "trainloader = DataLoader(patient_ecg_train_td, batch_size=BATCH_SIZE, shuffle = True)\n",
    "\n",
    "patient_ecg_test_td = TensorDataset(patient_ecg_test, dist_transform_test)\n",
    "testloader = DataLoader(patient_ecg_test_td, batch_size=BATCH_SIZE)"
   ]
  },
  {
   "cell_type": "markdown",
   "metadata": {
    "colab_type": "text",
    "id": "t0Px41-pAFFF"
   },
   "source": [
    "### Visualizing using Matplotlib"
   ]
  },
  {
   "cell_type": "code",
   "execution_count": 29,
   "metadata": {
    "colab": {
     "base_uri": "https://localhost:8080/",
     "height": 282
    },
    "colab_type": "code",
    "executionInfo": {
     "elapsed": 1484,
     "status": "ok",
     "timestamp": 1595183482793,
     "user": {
      "displayName": "Sricharan V",
      "photoUrl": "",
      "userId": "03063971511613622677"
     },
     "user_tz": -330
    },
    "id": "6F93ayksAEja",
    "outputId": "a1254dac-1c95-4ca8-b767-2bac2699e11d"
   },
   "outputs": [
    {
     "data": {
      "text/plain": [
       "[<matplotlib.lines.Line2D at 0x1df86253640>]"
      ]
     },
     "execution_count": 29,
     "metadata": {},
     "output_type": "execute_result"
    },
    {
     "data": {
      "image/png": "[encoded data removed]",
      "text/plain": [
       "<Figure size 432x288 with 1 Axes>"
      ]
     },
     "metadata": {
      "needs_background": "light"
     },
     "output_type": "display_data"
    }
   ],
   "source": [
    "record_no = 18\n",
    "plt.plot(patient_ecg_train[record_no,0,:].numpy())\n",
    "plt.plot(dist_transform_train[record_no,0,:].numpy())"
   ]
  },
  {
   "cell_type": "markdown",
   "metadata": {
    "colab_type": "text",
    "id": "GcC1nSeW2VVd"
   },
   "source": [
    "### Ensuring deterministicity through Random seeding\n"
   ]
  },
  {
   "cell_type": "code",
   "execution_count": 30,
   "metadata": {
    "colab": {},
    "colab_type": "code",
    "executionInfo": {
     "elapsed": 1129,
     "status": "ok",
     "timestamp": 1595183223109,
     "user": {
      "displayName": "Sricharan V",
      "photoUrl": "",
      "userId": "03063971511613622677"
     },
     "user_tz": -330
    },
    "id": "cXDLjoNl2UhR"
   },
   "outputs": [],
   "source": [
    "torch.backends.cudnn.deterministic = True\n",
    "torch.backends.cudnn.benchmark = False\n",
    "manualSeed = 4\n",
    "random.seed(manualSeed)\n",
    "torch.manual_seed(manualSeed)\n",
    "if torch.cuda.is_available():\n",
    "    torch.cuda.manual_seed(manualSeed) "
   ]
  },
  {
   "cell_type": "markdown",
   "metadata": {
    "colab_type": "text",
    "id": "W4jG7ivprZ-y"
   },
   "source": [
    "### Setting the optimizer and Loss function"
   ]
  },
  {
   "cell_type": "code",
   "execution_count": 31,
   "metadata": {
    "colab": {},
    "colab_type": "code",
    "executionInfo": {
     "elapsed": 3973,
     "status": "ok",
     "timestamp": 1595183232895,
     "user": {
      "displayName": "Sricharan V",
      "photoUrl": "",
      "userId": "03063971511613622677"
     },
     "user_tz": -330
    },
    "id": "OfQNokSUrZ-z"
   },
   "outputs": [],
   "source": [
    "model = IncUNet(in_shape = (C,H,W))\n",
    "model.cuda()\n",
    "\n",
    "optimizer = optim.Adam(model.parameters(), lr = learn_rate)# Try out weight decay , \n",
    "scheduler = optim.lr_scheduler.MultiStepLR(optimizer, milestones=[90,190,450], gamma=0.1)\n",
    "\n",
    "criterion = nn.SmoothL1Loss()"
   ]
  },
  {
   "cell_type": "markdown",
   "metadata": {
    "colab_type": "text",
    "id": "Wbe1kLYCrZ-4"
   },
   "source": [
    "### Initializing Tensorboard ###"
   ]
  },
  {
   "cell_type": "code",
   "execution_count": 32,
   "metadata": {
    "colab": {
     "base_uri": "https://localhost:8080/",
     "height": 34
    },
    "colab_type": "code",
    "executionInfo": {
     "elapsed": 1125,
     "status": "ok",
     "timestamp": 1595183237345,
     "user": {
      "displayName": "Sricharan V",
      "photoUrl": "",
      "userId": "03063971511613622677"
     },
     "user_tz": -330
    },
    "id": "FSuCJ988rZ-5",
    "outputId": "f0e34b44-4fc8-474b-bb63-92726e4e5209"
   },
   "outputs": [
    {
     "data": {
      "text/plain": [
       "76"
      ]
     },
     "execution_count": 32,
     "metadata": {},
     "output_type": "execute_result"
    }
   ],
   "source": [
    "### Using datetime to capture date time and write details into a text file\n",
    "date_time = str(datetime.datetime.now())\n",
    "date = date_time[:10]\n",
    "start_time = date_time[11:19].replace(\":\",\"_\")\n",
    "model_path = \"saved_model/\" + date + \"__\" + start_time + \"/\" \n",
    "if not(os.path.exists('saved_model')): \n",
    "  os.mkdir('saved_model')\n",
    "os.mkdir(model_path)\n",
    "log_file = './' + model_path + 'logfile.txt'\n",
    "log_data = open(log_file,'w+')\n",
    "settings = ' The Settings of the model are: Epoch:%d, LR:%f, BATCH_SIZE:%d Seed:%d\\n'%(num_epochs,learn_rate,BATCH_SIZE,manualSeed)\n",
    "log_data.write(settings) "
   ]
  },
  {
   "cell_type": "markdown",
   "metadata": {
    "colab_type": "text",
    "id": "e-Hf-yCxrZ_T"
   },
   "source": [
    "### Training ###"
   ]
  },
  {
   "cell_type": "code",
   "execution_count": 33,
   "metadata": {
    "colab": {
     "base_uri": "https://localhost:8080/",
     "height": 1000,
     "referenced_widgets": [
      "613e3121a6954bc3ad6b304792d6ffc0",
      "33161a85b3ed48c280c15ecec72dc407",
      "969aa4977b3544649e81b9fc40478fb2",
      "bc729aea834f47548f564012920e96ed",
      "06c419d4a11744ae883efa3eb3dde16d",
      "db4c7d1f4bf1463caca66524d719e050",
      "95b89a795924443d9f921ecd2b265a5d",
      "314dfc662be24750a30d953044d894f9"
     ]
    },
    "colab_type": "code",
    "executionInfo": {
     "elapsed": 139249,
     "status": "error",
     "timestamp": 1595183380345,
     "user": {
      "displayName": "Sricharan V",
      "photoUrl": "",
      "userId": "03063971511613622677"
     },
     "user_tz": -330
    },
    "id": "vnDKw-rkrZ_a",
    "outputId": "898f1473-4360-4f5e-8d47-8bc4e312ea00",
    "scrolled": false
   },
   "outputs": [
    {
     "data": {
      "application/vnd.jupyter.widget-view+json": {
       "model_id": "27b24b6ec4a6423f89775c42c4325a50",
       "version_major": 2,
       "version_minor": 0
      },
      "text/plain": [
       "  0%|          | 0/20 [00:00<?, ?it/s]"
      ]
     },
     "metadata": {},
     "output_type": "display_data"
    },
    {
     "name": "stdout",
     "output_type": "stream",
     "text": [
      "----------------------------------------\n",
      "Epoch 1/20\n",
      "----------\n",
      "Step no: 1/1\n",
      "Net loss is: tensor(1.7927, device='cuda:0', grad_fn=<DivBackward0>)\n",
      "----------------------------------------\n",
      "..........Evaluation..........\n",
      "Epoch No is: 0\n",
      "..........Saving the model..........\n",
      "----------------------------------------\n",
      "Epoch 2/20\n",
      "----------\n",
      "Step no: 1/1\n",
      "Net loss is: tensor(7.1427, device='cuda:0', grad_fn=<DivBackward0>)\n",
      "----------------------------------------\n",
      "Epoch 3/20\n",
      "----------\n",
      "Step no: 1/1\n",
      "Net loss is: tensor(2.3580, device='cuda:0', grad_fn=<DivBackward0>)\n",
      "----------------------------------------\n",
      "Epoch 4/20\n",
      "----------\n",
      "Step no: 1/1\n",
      "Net loss is: tensor(1.2127, device='cuda:0', grad_fn=<DivBackward0>)\n",
      "----------------------------------------\n",
      "Epoch 5/20\n",
      "----------\n",
      "Step no: 1/1\n",
      "Net loss is: tensor(1.4143, device='cuda:0', grad_fn=<DivBackward0>)\n",
      "----------------------------------------\n",
      "Epoch 6/20\n",
      "----------\n",
      "Step no: 1/1\n",
      "Net loss is: tensor(0.8579, device='cuda:0', grad_fn=<DivBackward0>)\n",
      "----------------------------------------\n",
      "Epoch 7/20\n",
      "----------\n",
      "Step no: 1/1\n",
      "Net loss is: tensor(0.8728, device='cuda:0', grad_fn=<DivBackward0>)\n",
      "----------------------------------------\n",
      "Epoch 8/20\n",
      "----------\n",
      "Step no: 1/1\n",
      "Net loss is: tensor(0.5464, device='cuda:0', grad_fn=<DivBackward0>)\n",
      "----------------------------------------\n",
      "Epoch 9/20\n",
      "----------\n",
      "Step no: 1/1\n",
      "Net loss is: tensor(0.5089, device='cuda:0', grad_fn=<DivBackward0>)\n",
      "----------------------------------------\n",
      "Epoch 10/20\n",
      "----------\n",
      "Step no: 1/1\n",
      "Net loss is: tensor(0.4283, device='cuda:0', grad_fn=<DivBackward0>)\n",
      "----------------------------------------\n",
      "Epoch 11/20\n",
      "----------\n",
      "Step no: 1/1\n",
      "Net loss is: tensor(0.3051, device='cuda:0', grad_fn=<DivBackward0>)\n",
      "----------------------------------------\n",
      "..........Evaluation..........\n",
      "Epoch No is: 10\n",
      "----------------------------------------\n",
      "Epoch 12/20\n",
      "----------\n",
      "Step no: 1/1\n",
      "Net loss is: tensor(0.2669, device='cuda:0', grad_fn=<DivBackward0>)\n",
      "----------------------------------------\n",
      "Epoch 13/20\n",
      "----------\n",
      "Step no: 1/1\n",
      "Net loss is: tensor(0.2495, device='cuda:0', grad_fn=<DivBackward0>)\n",
      "----------------------------------------\n",
      "Epoch 14/20\n",
      "----------\n",
      "Step no: 1/1\n",
      "Net loss is: tensor(0.2512, device='cuda:0', grad_fn=<DivBackward0>)\n",
      "----------------------------------------\n",
      "Epoch 15/20\n",
      "----------\n",
      "Step no: 1/1\n",
      "Net loss is: tensor(0.1910, device='cuda:0', grad_fn=<DivBackward0>)\n",
      "----------------------------------------\n",
      "Epoch 16/20\n",
      "----------\n",
      "Step no: 1/1\n",
      "Net loss is: tensor(0.1771, device='cuda:0', grad_fn=<DivBackward0>)\n",
      "----------------------------------------\n",
      "Epoch 17/20\n",
      "----------\n",
      "Step no: 1/1\n",
      "Net loss is: tensor(0.1242, device='cuda:0', grad_fn=<DivBackward0>)\n",
      "----------------------------------------\n",
      "Epoch 18/20\n",
      "----------\n",
      "Step no: 1/1\n",
      "Net loss is: tensor(0.1317, device='cuda:0', grad_fn=<DivBackward0>)\n",
      "----------------------------------------\n",
      "Epoch 19/20\n",
      "----------\n",
      "Step no: 1/1\n",
      "Net loss is: tensor(0.1030, device='cuda:0', grad_fn=<DivBackward0>)\n",
      "----------------------------------------\n",
      "Epoch 20/20\n",
      "----------\n",
      "Step no: 1/1\n",
      "Net loss is: tensor(0.0981, device='cuda:0', grad_fn=<DivBackward0>)\n"
     ]
    }
   ],
   "source": [
    "epoch_loss = []\n",
    "min_test_loss = 1000 ### Set a very high number\n",
    "\n",
    "best_model_name = \"\"\n",
    "\n",
    "for epoch in tqdm(range(num_epochs)):\n",
    "    print ('-'*40)\n",
    "    model.train()\n",
    "    print ('Epoch {}/{}'.format(epoch+1,num_epochs))\n",
    "    print ('-'*10)\n",
    "    net_loss = 0\n",
    "    \n",
    "    for step,(x,y) in enumerate(trainloader):\n",
    "        \n",
    "        print(\"Step no: {}/{}\".format(step+1, len(trainloader)))\n",
    "        x,y = x.cuda(),y.cuda()\n",
    "        y_predict = model(x) \n",
    "        \n",
    "        ### Loss computation and Optimization ###\n",
    "        loss = criterion(y,y_predict)\n",
    "        optimizer.zero_grad()\n",
    "        loss.backward()\n",
    "        optimizer.step()\n",
    "        net_loss += loss\n",
    "        \n",
    "    net_loss = net_loss/ (step + 1)\n",
    "    \n",
    "    ### Logging ###\n",
    "    settings = \"\\nEpoch:{},Loss:{}\".format(epoch,net_loss)\n",
    "    log_data.write(settings)\n",
    "    if(epoch == num_epochs - 1):\n",
    "        log_data.close()\n",
    "    \n",
    "    print(\"Net loss is:\", net_loss)\n",
    "    epoch_loss.append(net_loss.data)\n",
    "    \n",
    "    scheduler.step()\n",
    "\n",
    "    ### Evaluation and saving best model ###    \n",
    "    if epoch % 10 == 0:\n",
    "        print ('-'*40)\n",
    "        print(\"..........Evaluation..........\")\n",
    "        print(\"Epoch No is:\", epoch)\n",
    "        model.eval()\n",
    "    \n",
    "        with torch.no_grad():\n",
    "          net_test_loss = 0 \n",
    "          for step,(x,y) in enumerate(testloader): ### Use trainloader for AK2-11 ###\n",
    "              x,y = Variable(x.cuda()),Variable(y.cuda())\n",
    "              y_predict_test = model(x)\n",
    "                           \n",
    "              test_loss = criterion(y_predict_test,y)                \n",
    "              net_test_loss += test_loss                 \n",
    "            \n",
    "          net_test_loss /= step + 1 \n",
    "            \n",
    "        ### Saving the best model based on the Minimum Loss\n",
    "        if net_test_loss < min_test_loss:\n",
    "          min_test_loss = net_test_loss\n",
    "          print(\"..........Saving the model..........\")\n",
    "          torch.save(model.state_dict(),model_path+'Epoch'+str(epoch)+'.pt')\n",
    "          best_model_name = 'Epoch'+str(epoch)+'.pt'\n"
   ]
  },
  {
   "cell_type": "markdown",
   "metadata": {
    "colab_type": "text",
    "id": "UYrjL8Cs4uO5"
   },
   "source": [
    "### Evaluation\n",
    "\n"
   ]
  },
  {
   "cell_type": "code",
   "execution_count": 34,
   "metadata": {
    "colab": {
     "base_uri": "https://localhost:8080/",
     "height": 34
    },
    "colab_type": "code",
    "executionInfo": {
     "elapsed": 1500,
     "status": "ok",
     "timestamp": 1595183439808,
     "user": {
      "displayName": "Sricharan V",
      "photoUrl": "",
      "userId": "03063971511613622677"
     },
     "user_tz": -330
    },
    "id": "XjS8FQb3LsUE",
    "outputId": "fc9688d9-f843-4ea5-c5a2-2fe16819aad2"
   },
   "outputs": [
    {
     "data": {
      "text/plain": [
       "<All keys matched successfully>"
      ]
     },
     "execution_count": 34,
     "metadata": {},
     "output_type": "execute_result"
    }
   ],
   "source": [
    "# SAVED_MODEL_PATH = \"model.pt\"\n",
    "# model.load_state_dict(torch.load(SAVED_MODEL_PATH))\n",
    "model.load_state_dict(torch.load(model_path +  best_model_name))"
   ]
  },
  {
   "cell_type": "code",
   "execution_count": 35,
   "metadata": {
    "colab": {
     "base_uri": "https://localhost:8080/",
     "height": 34
    },
    "colab_type": "code",
    "executionInfo": {
     "elapsed": 2590,
     "status": "ok",
     "timestamp": 1595183443906,
     "user": {
      "displayName": "Sricharan V",
      "photoUrl": "",
      "userId": "03063971511613622677"
     },
     "user_tz": -330
    },
    "id": "XL_8udoWxoPA",
    "outputId": "72f7e0e0-6e09-41ab-9886-d082391a40e7"
   },
   "outputs": [],
   "source": [
    "model.eval()\n",
    "y_pred_array = []\n",
    "ecg = []\n",
    "\n",
    "with torch.no_grad():\n",
    "  net_test_loss = 0 \n",
    "  for step,(x,y) in enumerate(testloader): \n",
    "      \n",
    "      x,y = x.cuda(),y.cuda()\n",
    "      y_predict_test = model(x)\n",
    "                   \n",
    "      test_loss = criterion(y_predict_test,y)                \n",
    "      net_test_loss += test_loss   \n",
    "      print('Step: {}, Loss: {} '.format(step,net_test_loss))\n",
    "\n",
    "      ecg.append(x.cpu().numpy())\n",
    "      y_pred_array.append(y_predict_test[:,0,:].cpu().numpy())"
   ]
  },
  {
   "cell_type": "markdown",
   "metadata": {
    "colab_type": "text",
    "id": "AfTPsVFTPQd4"
   },
   "source": [
    "### Post Processing ###"
   ]
  },
  {
   "cell_type": "code",
   "execution_count": 36,
   "metadata": {
    "colab": {},
    "colab_type": "code",
    "executionInfo": {
     "elapsed": 1107,
     "status": "ok",
     "timestamp": 1595183448608,
     "user": {
      "displayName": "Sricharan V",
      "photoUrl": "",
      "userId": "03063971511613622677"
     },
     "user_tz": -330
    },
    "id": "lM0Z2Z0JLfwe"
   },
   "outputs": [
    {
     "ename": "IndexError",
     "evalue": "list index out of range",
     "output_type": "error",
     "traceback": [
      "\u001b[1;31m---------------------------------------------------------------------------\u001b[0m",
      "\u001b[1;31mIndexError\u001b[0m                                Traceback (most recent call last)",
      "\u001b[1;32m~\\AppData\\Local\\Temp/ipykernel_2140/994974490.py\u001b[0m in \u001b[0;36m<module>\u001b[1;34m\u001b[0m\n\u001b[0;32m      1\u001b[0m \u001b[0mbatch_no\u001b[0m \u001b[1;33m=\u001b[0m \u001b[1;36m0\u001b[0m\u001b[1;33m\u001b[0m\u001b[1;33m\u001b[0m\u001b[0m\n\u001b[1;32m----> 2\u001b[1;33m \u001b[0my_pred_array\u001b[0m \u001b[1;33m=\u001b[0m \u001b[0mnp\u001b[0m\u001b[1;33m.\u001b[0m\u001b[0masarray\u001b[0m\u001b[1;33m(\u001b[0m\u001b[0my_pred_array\u001b[0m\u001b[1;33m[\u001b[0m\u001b[0mbatch_no\u001b[0m\u001b[1;33m]\u001b[0m\u001b[1;33m)\u001b[0m\u001b[1;33m\u001b[0m\u001b[1;33m\u001b[0m\u001b[0m\n\u001b[0m\u001b[0;32m      3\u001b[0m \u001b[0mecg\u001b[0m \u001b[1;33m=\u001b[0m \u001b[0mnp\u001b[0m\u001b[1;33m.\u001b[0m\u001b[0masarray\u001b[0m\u001b[1;33m(\u001b[0m\u001b[0mecg\u001b[0m\u001b[1;33m[\u001b[0m\u001b[0mbatch_no\u001b[0m\u001b[1;33m]\u001b[0m\u001b[1;33m)\u001b[0m\u001b[1;33m[\u001b[0m\u001b[1;33m:\u001b[0m\u001b[1;33m,\u001b[0m\u001b[1;36m0\u001b[0m\u001b[1;33m,\u001b[0m\u001b[1;33m:\u001b[0m\u001b[1;33m]\u001b[0m\u001b[1;33m\u001b[0m\u001b[1;33m\u001b[0m\u001b[0m\n\u001b[0;32m      4\u001b[0m \u001b[1;33m\u001b[0m\u001b[0m\n\u001b[0;32m      5\u001b[0m \u001b[0mpeak_locs\u001b[0m \u001b[1;33m=\u001b[0m \u001b[1;33m[\u001b[0m\u001b[1;33m]\u001b[0m\u001b[1;33m\u001b[0m\u001b[1;33m\u001b[0m\u001b[0m\n",
      "\u001b[1;31mIndexError\u001b[0m: list index out of range"
     ]
    }
   ],
   "source": [
    "batch_no = 0\n",
    "y_pred_array = np.asarray(y_pred_array[batch_no])\n",
    "ecg = np.asarray(ecg[batch_no])[:,0,:]\n",
    "\n",
    "peak_locs = []\n",
    "for i in range(y_pred_array.shape[0]):\n",
    "    peak_locs.append(scipy.signal.find_peaks(-y_pred_array[i,:],distance = 90,height = -0.2,prominence = 0.035)[0])\n",
    "\n",
    "### Getting the amplitude values at valley location. \n",
    "y_roll_valleys = []\n",
    "y = []\n",
    "for j in range(len(peak_locs)):\n",
    "    y = [ecg[j,i] for i in peak_locs[j]]\n",
    "    y_roll_valleys.append(y)"
   ]
  },
  {
   "cell_type": "markdown",
   "metadata": {
    "colab_type": "text",
    "id": "Ed84FVtSPs09"
   },
   "source": [
    "### Plotting output ###"
   ]
  },
  {
   "cell_type": "code",
   "execution_count": 15,
   "metadata": {
    "colab": {
     "base_uri": "https://localhost:8080/",
     "height": 282
    },
    "colab_type": "code",
    "executionInfo": {
     "elapsed": 1358,
     "status": "ok",
     "timestamp": 1595183453995,
     "user": {
      "displayName": "Sricharan V",
      "photoUrl": "",
      "userId": "03063971511613622677"
     },
     "user_tz": -330
    },
    "id": "x1hsN7CcPIGU",
    "outputId": "d9e3329e-2b6f-43ca-f2a0-e6fb6a264021"
   },
   "outputs": [
    {
     "data": {
      "text/plain": [
       "<matplotlib.collections.PathCollection at 0x7fbcb30a50b8>"
      ]
     },
     "execution_count": 15,
     "metadata": {
      "tags": []
     },
     "output_type": "execute_result"
    },
    {
     "data": {
      "image/png": "[encoded data removed]",
      "text/plain": [
       "<Figure size 432x288 with 1 Axes>"
      ]
     },
     "metadata": {
      "needs_background": "light",
      "tags": []
     },
     "output_type": "display_data"
    }
   ],
   "source": [
    "record_no = 63\n",
    "plt.plot(ecg[record_no,:])\n",
    "plt.scatter(peak_locs[record_no], y_roll_valleys[record_no])"
   ]
  }
 ],
 "metadata": {
  "accelerator": "GPU",
  "colab": {
   "name": "train_CPSC.ipynb",
   "provenance": []
  },
  "kernelspec": {
   "display_name": "Python 3 (ipykernel)",
   "language": "python",
   "name": "python3"
  },
  "language_info": {
   "codemirror_mode": {
    "name": "ipython",
    "version": 3
   },
   "file_extension": ".py",
   "mimetype": "text/x-python",
   "name": "python",
   "nbconvert_exporter": "python",
   "pygments_lexer": "ipython3",
   "version": "3.9.7"
  },
  "widgets": {
   "application/vnd.jupyter.widget-state+json": {
    "053c08f89b80490e93ae6cc0484707f7": {
     "model_module": "@jupyter-widgets/base",
     "model_name": "LayoutModel",
     "state": {
      "_model_module": "@jupyter-widgets/base",
      "_model_module_version": "1.2.0",
      "_model_name": "LayoutModel",
      "_view_count": null,
      "_view_module": "@jupyter-widgets/base",
      "_view_module_version": "1.2.0",
      "_view_name": "LayoutView",
      "align_content": null,
      "align_items": null,
      "align_self": null,
      "border": null,
      "bottom": null,
      "display": null,
      "flex": null,
      "flex_flow": null,
      "grid_area": null,
      "grid_auto_columns": null,
      "grid_auto_flow": null,
      "grid_auto_rows": null,
      "grid_column": null,
      "grid_gap": null,
      "grid_row": null,
      "grid_template_areas": null,
      "grid_template_columns": null,
      "grid_template_rows": null,
      "height": null,
      "justify_content": null,
      "justify_items": null,
      "left": null,
      "margin": null,
      "max_height": null,
      "max_width": null,
      "min_height": null,
      "min_width": null,
      "object_fit": null,
      "object_position": null,
      "order": null,
      "overflow": null,
      "overflow_x": null,
      "overflow_y": null,
      "padding": null,
      "right": null,
      "top": null,
      "visibility": null,
      "width": null
     }
    },
    "06c419d4a11744ae883efa3eb3dde16d": {
     "model_module": "@jupyter-widgets/controls",
     "model_name": "ProgressStyleModel",
     "state": {
      "_model_module": "@jupyter-widgets/controls",
      "_model_module_version": "1.5.0",
      "_model_name": "ProgressStyleModel",
      "_view_count": null,
      "_view_module": "@jupyter-widgets/base",
      "_view_module_version": "1.2.0",
      "_view_name": "StyleView",
      "bar_color": null,
      "description_width": "initial"
     }
    },
    "07fe63b0121d4351bb26947c3bad0d54": {
     "model_module": "@jupyter-widgets/controls",
     "model_name": "HBoxModel",
     "state": {
      "_dom_classes": [],
      "_model_module": "@jupyter-widgets/controls",
      "_model_module_version": "1.5.0",
      "_model_name": "HBoxModel",
      "_view_count": null,
      "_view_module": "@jupyter-widgets/controls",
      "_view_module_version": "1.5.0",
      "_view_name": "HBoxView",
      "box_style": "",
      "children": [
       "IPY_MODEL_4bd46106e1cb4310b5fc453cfe37f894",
       "IPY_MODEL_2d859fb9e6304a149dd04847f2c00616"
      ],
      "layout": "IPY_MODEL_c8b43bc08f914132b3d3bb3ae1960db0"
     }
    },
    "2d859fb9e6304a149dd04847f2c00616": {
     "model_module": "@jupyter-widgets/controls",
     "model_name": "HTMLModel",
     "state": {
      "_dom_classes": [],
      "_model_module": "@jupyter-widgets/controls",
      "_model_module_version": "1.5.0",
      "_model_name": "HTMLModel",
      "_view_count": null,
      "_view_module": "@jupyter-widgets/controls",
      "_view_module_version": "1.5.0",
      "_view_name": "HTMLView",
      "description": "",
      "description_tooltip": null,
      "layout": "IPY_MODEL_053c08f89b80490e93ae6cc0484707f7",
      "placeholder": "​",
      "style": "IPY_MODEL_36f6579b633c4f12b45c49abd96e6c38",
      "value": " 20/20 [05:37&lt;00:00, 16.90s/it]"
     }
    },
    "314dfc662be24750a30d953044d894f9": {
     "model_module": "@jupyter-widgets/base",
     "model_name": "LayoutModel",
     "state": {
      "_model_module": "@jupyter-widgets/base",
      "_model_module_version": "1.2.0",
      "_model_name": "LayoutModel",
      "_view_count": null,
      "_view_module": "@jupyter-widgets/base",
      "_view_module_version": "1.2.0",
      "_view_name": "LayoutView",
      "align_content": null,
      "align_items": null,
      "align_self": null,
      "border": null,
      "bottom": null,
      "display": null,
      "flex": null,
      "flex_flow": null,
      "grid_area": null,
      "grid_auto_columns": null,
      "grid_auto_flow": null,
      "grid_auto_rows": null,
      "grid_column": null,
      "grid_gap": null,
      "grid_row": null,
      "grid_template_areas": null,
      "grid_template_columns": null,
      "grid_template_rows": null,
      "height": null,
      "justify_content": null,
      "justify_items": null,
      "left": null,
      "margin": null,
      "max_height": null,
      "max_width": null,
      "min_height": null,
      "min_width": null,
      "object_fit": null,
      "object_position": null,
      "order": null,
      "overflow": null,
      "overflow_x": null,
      "overflow_y": null,
      "padding": null,
      "right": null,
      "top": null,
      "visibility": null,
      "width": null
     }
    },
    "33161a85b3ed48c280c15ecec72dc407": {
     "model_module": "@jupyter-widgets/base",
     "model_name": "LayoutModel",
     "state": {
      "_model_module": "@jupyter-widgets/base",
      "_model_module_version": "1.2.0",
      "_model_name": "LayoutModel",
      "_view_count": null,
      "_view_module": "@jupyter-widgets/base",
      "_view_module_version": "1.2.0",
      "_view_name": "LayoutView",
      "align_content": null,
      "align_items": null,
      "align_self": null,
      "border": null,
      "bottom": null,
      "display": null,
      "flex": null,
      "flex_flow": null,
      "grid_area": null,
      "grid_auto_columns": null,
      "grid_auto_flow": null,
      "grid_auto_rows": null,
      "grid_column": null,
      "grid_gap": null,
      "grid_row": null,
      "grid_template_areas": null,
      "grid_template_columns": null,
      "grid_template_rows": null,
      "height": null,
      "justify_content": null,
      "justify_items": null,
      "left": null,
      "margin": null,
      "max_height": null,
      "max_width": null,
      "min_height": null,
      "min_width": null,
      "object_fit": null,
      "object_position": null,
      "order": null,
      "overflow": null,
      "overflow_x": null,
      "overflow_y": null,
      "padding": null,
      "right": null,
      "top": null,
      "visibility": null,
      "width": null
     }
    },
    "36f6579b633c4f12b45c49abd96e6c38": {
     "model_module": "@jupyter-widgets/controls",
     "model_name": "DescriptionStyleModel",
     "state": {
      "_model_module": "@jupyter-widgets/controls",
      "_model_module_version": "1.5.0",
      "_model_name": "DescriptionStyleModel",
      "_view_count": null,
      "_view_module": "@jupyter-widgets/base",
      "_view_module_version": "1.2.0",
      "_view_name": "StyleView",
      "description_width": ""
     }
    },
    "4bd46106e1cb4310b5fc453cfe37f894": {
     "model_module": "@jupyter-widgets/controls",
     "model_name": "FloatProgressModel",
     "state": {
      "_dom_classes": [],
      "_model_module": "@jupyter-widgets/controls",
      "_model_module_version": "1.5.0",
      "_model_name": "FloatProgressModel",
      "_view_count": null,
      "_view_module": "@jupyter-widgets/controls",
      "_view_module_version": "1.5.0",
      "_view_name": "ProgressView",
      "bar_style": "success",
      "description": "100%",
      "description_tooltip": null,
      "layout": "IPY_MODEL_60def240f2294eb0bead3c27b78a814e",
      "max": 20,
      "min": 0,
      "orientation": "horizontal",
      "style": "IPY_MODEL_c39a3c6900de4c23ae249b97fdd14387",
      "value": 20
     }
    },
    "60def240f2294eb0bead3c27b78a814e": {
     "model_module": "@jupyter-widgets/base",
     "model_name": "LayoutModel",
     "state": {
      "_model_module": "@jupyter-widgets/base",
      "_model_module_version": "1.2.0",
      "_model_name": "LayoutModel",
      "_view_count": null,
      "_view_module": "@jupyter-widgets/base",
      "_view_module_version": "1.2.0",
      "_view_name": "LayoutView",
      "align_content": null,
      "align_items": null,
      "align_self": null,
      "border": null,
      "bottom": null,
      "display": null,
      "flex": null,
      "flex_flow": null,
      "grid_area": null,
      "grid_auto_columns": null,
      "grid_auto_flow": null,
      "grid_auto_rows": null,
      "grid_column": null,
      "grid_gap": null,
      "grid_row": null,
      "grid_template_areas": null,
      "grid_template_columns": null,
      "grid_template_rows": null,
      "height": null,
      "justify_content": null,
      "justify_items": null,
      "left": null,
      "margin": null,
      "max_height": null,
      "max_width": null,
      "min_height": null,
      "min_width": null,
      "object_fit": null,
      "object_position": null,
      "order": null,
      "overflow": null,
      "overflow_x": null,
      "overflow_y": null,
      "padding": null,
      "right": null,
      "top": null,
      "visibility": null,
      "width": null
     }
    },
    "613e3121a6954bc3ad6b304792d6ffc0": {
     "model_module": "@jupyter-widgets/controls",
     "model_name": "HBoxModel",
     "state": {
      "_dom_classes": [],
      "_model_module": "@jupyter-widgets/controls",
      "_model_module_version": "1.5.0",
      "_model_name": "HBoxModel",
      "_view_count": null,
      "_view_module": "@jupyter-widgets/controls",
      "_view_module_version": "1.5.0",
      "_view_name": "HBoxView",
      "box_style": "",
      "children": [
       "IPY_MODEL_969aa4977b3544649e81b9fc40478fb2",
       "IPY_MODEL_bc729aea834f47548f564012920e96ed"
      ],
      "layout": "IPY_MODEL_33161a85b3ed48c280c15ecec72dc407"
     }
    },
    "776ef00e70ef4e1ab7dd7c4a0e0b009e": {
     "model_module": "@jupyter-widgets/controls",
     "model_name": "ProgressStyleModel",
     "state": {
      "_model_module": "@jupyter-widgets/controls",
      "_model_module_version": "1.5.0",
      "_model_name": "ProgressStyleModel",
      "_view_count": null,
      "_view_module": "@jupyter-widgets/base",
      "_view_module_version": "1.2.0",
      "_view_name": "StyleView",
      "bar_color": null,
      "description_width": "initial"
     }
    },
    "79f82bfc4d8247bf97708bb800aa00ec": {
     "model_module": "@jupyter-widgets/controls",
     "model_name": "DescriptionStyleModel",
     "state": {
      "_model_module": "@jupyter-widgets/controls",
      "_model_module_version": "1.5.0",
      "_model_name": "DescriptionStyleModel",
      "_view_count": null,
      "_view_module": "@jupyter-widgets/base",
      "_view_module_version": "1.2.0",
      "_view_name": "StyleView",
      "description_width": ""
     }
    },
    "862ecdffe598460c8705b4c05159e551": {
     "model_module": "@jupyter-widgets/controls",
     "model_name": "HTMLModel",
     "state": {
      "_dom_classes": [],
      "_model_module": "@jupyter-widgets/controls",
      "_model_module_version": "1.5.0",
      "_model_name": "HTMLModel",
      "_view_count": null,
      "_view_module": "@jupyter-widgets/controls",
      "_view_module_version": "1.5.0",
      "_view_name": "HTMLView",
      "description": "",
      "description_tooltip": null,
      "layout": "IPY_MODEL_e20e7078af6245808d479ecf6b9adc10",
      "placeholder": "​",
      "style": "IPY_MODEL_79f82bfc4d8247bf97708bb800aa00ec",
      "value": " 20/20 [33:32&lt;00:00, 100.61s/it]"
     }
    },
    "95b89a795924443d9f921ecd2b265a5d": {
     "model_module": "@jupyter-widgets/controls",
     "model_name": "DescriptionStyleModel",
     "state": {
      "_model_module": "@jupyter-widgets/controls",
      "_model_module_version": "1.5.0",
      "_model_name": "DescriptionStyleModel",
      "_view_count": null,
      "_view_module": "@jupyter-widgets/base",
      "_view_module_version": "1.2.0",
      "_view_name": "StyleView",
      "description_width": ""
     }
    },
    "969aa4977b3544649e81b9fc40478fb2": {
     "model_module": "@jupyter-widgets/controls",
     "model_name": "FloatProgressModel",
     "state": {
      "_dom_classes": [],
      "_model_module": "@jupyter-widgets/controls",
      "_model_module_version": "1.5.0",
      "_model_name": "FloatProgressModel",
      "_view_count": null,
      "_view_module": "@jupyter-widgets/controls",
      "_view_module_version": "1.5.0",
      "_view_name": "ProgressView",
      "bar_style": "danger",
      "description": "  5%",
      "description_tooltip": null,
      "layout": "IPY_MODEL_db4c7d1f4bf1463caca66524d719e050",
      "max": 20,
      "min": 0,
      "orientation": "horizontal",
      "style": "IPY_MODEL_06c419d4a11744ae883efa3eb3dde16d",
      "value": 1
     }
    },
    "bc729aea834f47548f564012920e96ed": {
     "model_module": "@jupyter-widgets/controls",
     "model_name": "HTMLModel",
     "state": {
      "_dom_classes": [],
      "_model_module": "@jupyter-widgets/controls",
      "_model_module_version": "1.5.0",
      "_model_name": "HTMLModel",
      "_view_count": null,
      "_view_module": "@jupyter-widgets/controls",
      "_view_module_version": "1.5.0",
      "_view_name": "HTMLView",
      "description": "",
      "description_tooltip": null,
      "layout": "IPY_MODEL_314dfc662be24750a30d953044d894f9",
      "placeholder": "​",
      "style": "IPY_MODEL_95b89a795924443d9f921ecd2b265a5d",
      "value": " 1/20 [02:18&lt;33:24, 105.50s/it]"
     }
    },
    "c39a3c6900de4c23ae249b97fdd14387": {
     "model_module": "@jupyter-widgets/controls",
     "model_name": "ProgressStyleModel",
     "state": {
      "_model_module": "@jupyter-widgets/controls",
      "_model_module_version": "1.5.0",
      "_model_name": "ProgressStyleModel",
      "_view_count": null,
      "_view_module": "@jupyter-widgets/base",
      "_view_module_version": "1.2.0",
      "_view_name": "StyleView",
      "bar_color": null,
      "description_width": "initial"
     }
    },
    "c8b43bc08f914132b3d3bb3ae1960db0": {
     "model_module": "@jupyter-widgets/base",
     "model_name": "LayoutModel",
     "state": {
      "_model_module": "@jupyter-widgets/base",
      "_model_module_version": "1.2.0",
      "_model_name": "LayoutModel",
      "_view_count": null,
      "_view_module": "@jupyter-widgets/base",
      "_view_module_version": "1.2.0",
      "_view_name": "LayoutView",
      "align_content": null,
      "align_items": null,
      "align_self": null,
      "border": null,
      "bottom": null,
      "display": null,
      "flex": null,
      "flex_flow": null,
      "grid_area": null,
      "grid_auto_columns": null,
      "grid_auto_flow": null,
      "grid_auto_rows": null,
      "grid_column": null,
      "grid_gap": null,
      "grid_row": null,
      "grid_template_areas": null,
      "grid_template_columns": null,
      "grid_template_rows": null,
      "height": null,
      "justify_content": null,
      "justify_items": null,
      "left": null,
      "margin": null,
      "max_height": null,
      "max_width": null,
      "min_height": null,
      "min_width": null,
      "object_fit": null,
      "object_position": null,
      "order": null,
      "overflow": null,
      "overflow_x": null,
      "overflow_y": null,
      "padding": null,
      "right": null,
      "top": null,
      "visibility": null,
      "width": null
     }
    },
    "c8f9b9b525e44dfdbd675713220a210f": {
     "model_module": "@jupyter-widgets/controls",
     "model_name": "HBoxModel",
     "state": {
      "_dom_classes": [],
      "_model_module": "@jupyter-widgets/controls",
      "_model_module_version": "1.5.0",
      "_model_name": "HBoxModel",
      "_view_count": null,
      "_view_module": "@jupyter-widgets/controls",
      "_view_module_version": "1.5.0",
      "_view_name": "HBoxView",
      "box_style": "",
      "children": [
       "IPY_MODEL_cf1cf687acd4494685d963c6867d87e3",
       "IPY_MODEL_862ecdffe598460c8705b4c05159e551"
      ],
      "layout": "IPY_MODEL_d326d4e62ea341c78d09b126ecec0315"
     }
    },
    "cf1cf687acd4494685d963c6867d87e3": {
     "model_module": "@jupyter-widgets/controls",
     "model_name": "FloatProgressModel",
     "state": {
      "_dom_classes": [],
      "_model_module": "@jupyter-widgets/controls",
      "_model_module_version": "1.5.0",
      "_model_name": "FloatProgressModel",
      "_view_count": null,
      "_view_module": "@jupyter-widgets/controls",
      "_view_module_version": "1.5.0",
      "_view_name": "ProgressView",
      "bar_style": "success",
      "description": "100%",
      "description_tooltip": null,
      "layout": "IPY_MODEL_f40f9fee85a1420591f055e31ab3a820",
      "max": 20,
      "min": 0,
      "orientation": "horizontal",
      "style": "IPY_MODEL_776ef00e70ef4e1ab7dd7c4a0e0b009e",
      "value": 20
     }
    },
    "d326d4e62ea341c78d09b126ecec0315": {
     "model_module": "@jupyter-widgets/base",
     "model_name": "LayoutModel",
     "state": {
      "_model_module": "@jupyter-widgets/base",
      "_model_module_version": "1.2.0",
      "_model_name": "LayoutModel",
      "_view_count": null,
      "_view_module": "@jupyter-widgets/base",
      "_view_module_version": "1.2.0",
      "_view_name": "LayoutView",
      "align_content": null,
      "align_items": null,
      "align_self": null,
      "border": null,
      "bottom": null,
      "display": null,
      "flex": null,
      "flex_flow": null,
      "grid_area": null,
      "grid_auto_columns": null,
      "grid_auto_flow": null,
      "grid_auto_rows": null,
      "grid_column": null,
      "grid_gap": null,
      "grid_row": null,
      "grid_template_areas": null,
      "grid_template_columns": null,
      "grid_template_rows": null,
      "height": null,
      "justify_content": null,
      "justify_items": null,
      "left": null,
      "margin": null,
      "max_height": null,
      "max_width": null,
      "min_height": null,
      "min_width": null,
      "object_fit": null,
      "object_position": null,
      "order": null,
      "overflow": null,
      "overflow_x": null,
      "overflow_y": null,
      "padding": null,
      "right": null,
      "top": null,
      "visibility": null,
      "width": null
     }
    },
    "db4c7d1f4bf1463caca66524d719e050": {
     "model_module": "@jupyter-widgets/base",
     "model_name": "LayoutModel",
     "state": {
      "_model_module": "@jupyter-widgets/base",
      "_model_module_version": "1.2.0",
      "_model_name": "LayoutModel",
      "_view_count": null,
      "_view_module": "@jupyter-widgets/base",
      "_view_module_version": "1.2.0",
      "_view_name": "LayoutView",
      "align_content": null,
      "align_items": null,
      "align_self": null,
      "border": null,
      "bottom": null,
      "display": null,
      "flex": null,
      "flex_flow": null,
      "grid_area": null,
      "grid_auto_columns": null,
      "grid_auto_flow": null,
      "grid_auto_rows": null,
      "grid_column": null,
      "grid_gap": null,
      "grid_row": null,
      "grid_template_areas": null,
      "grid_template_columns": null,
      "grid_template_rows": null,
      "height": null,
      "justify_content": null,
      "justify_items": null,
      "left": null,
      "margin": null,
      "max_height": null,
      "max_width": null,
      "min_height": null,
      "min_width": null,
      "object_fit": null,
      "object_position": null,
      "order": null,
      "overflow": null,
      "overflow_x": null,
      "overflow_y": null,
      "padding": null,
      "right": null,
      "top": null,
      "visibility": null,
      "width": null
     }
    },
    "e20e7078af6245808d479ecf6b9adc10": {
     "model_module": "@jupyter-widgets/base",
     "model_name": "LayoutModel",
     "state": {
      "_model_module": "@jupyter-widgets/base",
      "_model_module_version": "1.2.0",
      "_model_name": "LayoutModel",
      "_view_count": null,
      "_view_module": "@jupyter-widgets/base",
      "_view_module_version": "1.2.0",
      "_view_name": "LayoutView",
      "align_content": null,
      "align_items": null,
      "align_self": null,
      "border": null,
      "bottom": null,
      "display": null,
      "flex": null,
      "flex_flow": null,
      "grid_area": null,
      "grid_auto_columns": null,
      "grid_auto_flow": null,
      "grid_auto_rows": null,
      "grid_column": null,
      "grid_gap": null,
      "grid_row": null,
      "grid_template_areas": null,
      "grid_template_columns": null,
      "grid_template_rows": null,
      "height": null,
      "justify_content": null,
      "justify_items": null,
      "left": null,
      "margin": null,
      "max_height": null,
      "max_width": null,
      "min_height": null,
      "min_width": null,
      "object_fit": null,
      "object_position": null,
      "order": null,
      "overflow": null,
      "overflow_x": null,
      "overflow_y": null,
      "padding": null,
      "right": null,
      "top": null,
      "visibility": null,
      "width": null
     }
    },
    "f40f9fee85a1420591f055e31ab3a820": {
     "model_module": "@jupyter-widgets/base",
     "model_name": "LayoutModel",
     "state": {
      "_model_module": "@jupyter-widgets/base",
      "_model_module_version": "1.2.0",
      "_model_name": "LayoutModel",
      "_view_count": null,
      "_view_module": "@jupyter-widgets/base",
      "_view_module_version": "1.2.0",
      "_view_name": "LayoutView",
      "align_content": null,
      "align_items": null,
      "align_self": null,
      "border": null,
      "bottom": null,
      "display": null,
      "flex": null,
      "flex_flow": null,
      "grid_area": null,
      "grid_auto_columns": null,
      "grid_auto_flow": null,
      "grid_auto_rows": null,
      "grid_column": null,
      "grid_gap": null,
      "grid_row": null,
      "grid_template_areas": null,
      "grid_template_columns": null,
      "grid_template_rows": null,
      "height": null,
      "justify_content": null,
      "justify_items": null,
      "left": null,
      "margin": null,
      "max_height": null,
      "max_width": null,
      "min_height": null,
      "min_width": null,
      "object_fit": null,
      "object_position": null,
      "order": null,
      "overflow": null,
      "overflow_x": null,
      "overflow_y": null,
      "padding": null,
      "right": null,
      "top": null,
      "visibility": null,
      "width": null
     }
    }
   }
  }
 },
 "nbformat": 4,
 "nbformat_minor": 1
}
